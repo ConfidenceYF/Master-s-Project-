{
 "cells": [
  {
   "cell_type": "markdown",
   "id": "73a6c979",
   "metadata": {},
   "source": [
    "# PYTHON IMPLEMENTATION FOR PARAMETER VALUES OF THE CROP YIELD MODEL AFTER INCORPORATING TEMPERATURE"
   ]
  },
  {
   "cell_type": "code",
   "execution_count": 1,
   "id": "992fc4b5",
   "metadata": {},
   "outputs": [
    {
     "name": "stderr",
     "output_type": "stream",
     "text": [
      "/usr/lib/python3/dist-packages/scipy/__init__.py:146: UserWarning: A NumPy version >=1.17.3 and <1.25.0 is required for this version of SciPy (detected version 1.26.4\n",
      "  warnings.warn(f\"A NumPy version >={np_minversion} and <{np_maxversion}\"\n"
     ]
    }
   ],
   "source": [
    "import numpy as np\n",
    "import pandas as pd\n",
    "import matplotlib.pyplot as plt\n",
    "from scipy import stats\n",
    "import math\n",
    "np.random.seed(12)"
   ]
  },
  {
   "cell_type": "markdown",
   "id": "9f930555",
   "metadata": {},
   "source": [
    "## THE PREPARATION AND IMPUTATION OF MY TEMPERATURE AND YIELD DATA "
   ]
  },
  {
   "cell_type": "code",
   "execution_count": 2,
   "id": "e6ccac77",
   "metadata": {},
   "outputs": [],
   "source": [
    "#Temperature data\n",
    "tt=pd.read_excel('my_research_temp_data.xlsx')\n",
    "data_in = np.array(tt['Annual Mean'])\n",
    "T=data_temp = data_in[-62:]\n",
    "years = np.array(tt['Category'])\n",
    "\n",
    "#Crop Yield data\n",
    "pp=pd.read_csv('crop yield.csv')\n",
    "data_crop = np.array(pp['Value'])\n",
    "years = np.array(pp['Year'])\n",
    "\n",
    "# Log transformation\n",
    "def log_transform(data_crop):\n",
    "    # Adding 1 to avoid log(0) if there are zero values\n",
    "    data = np.log(data_crop + 1)\n",
    "    return data\n",
    "data = log_transform(data_crop)"
   ]
  },
  {
   "cell_type": "markdown",
   "id": "084150bf",
   "metadata": {},
   "source": [
    "## ESTIMATION OF THE PARMETERS FOR THE CROP YIELD MODEL"
   ]
  },
  {
   "cell_type": "code",
   "execution_count": 3,
   "id": "12d155ae",
   "metadata": {},
   "outputs": [
    {
     "name": "stdout",
     "output_type": "stream",
     "text": [
      "Sum of Squared Errors: 0.07283789238160787\n",
      "Total Sum of Squares: 0.0745306738613303\n",
      "MSE: 0.1194%\n",
      "My Estimated Params are: [r: 6.540839871790122e-05, sigma: 0.10508962980192249, sigma_T: 0.03455517884989635]\n"
     ]
    }
   ],
   "source": [
    "# Step 1: Computation of Y and X\n",
    "def compute_Y_X(data, T, delta_t, K):\n",
    "    n = len(data)\n",
    "    if n <= 1:\n",
    "        raise ValueError(\"Data length must be greater than 1\")\n",
    "\n",
    "    Y = np.zeros(n - 1)\n",
    "    X = np.zeros((n - 1, 2))\n",
    "    \n",
    "    for i in range(n - 1):\n",
    "        sqrt_T_i = np.sqrt(T[i])\n",
    "        Y[i] = (data[i + 1] - data[i]) / sqrt_T_i\n",
    "        X[i, 0] = (1 - np.exp(data[i]) / K) * (delta_t / sqrt_T_i)  \n",
    "        X[i, 1] = -(delta_t / sqrt_T_i)                            \n",
    "    \n",
    "    return Y, X\n",
    "\n",
    "# Step 2: Computation of C_hat\n",
    "def compute_C_hat(Y, X, lambda_reg=1e-5):\n",
    "    n, p = X.shape\n",
    "    I = np.eye(p)\n",
    "    X_transpose_X_reg = X.T @ X + lambda_reg * I\n",
    "    X_transpose_X_inv = np.linalg.inv(X_transpose_X_reg)\n",
    "    C_hat = X_transpose_X_inv @ X.T @ Y\n",
    "    return C_hat\n",
    "\n",
    "# Step 3: Computation of Parameters\n",
    "def compute_parameters(data, T, delta_t, K, lambda_reg=1e-5):\n",
    "    Y, X = compute_Y_X(data, T, delta_t, K)\n",
    "    C_hat = compute_C_hat(Y, X, lambda_reg)\n",
    "    \n",
    "    r = C_hat[0]\n",
    "    sigma = -C_hat[1]\n",
    "    \n",
    "    # Predicted Model Y\n",
    "    Y_pred = X @ C_hat\n",
    "    residuals = Y - Y_pred\n",
    "    \n",
    "    # Calculation of Mean Squared Error (MSE)\n",
    "    summ_sq_r = np.sum(residuals ** 2)\n",
    "    total_summ_sq = np.sum((Y - np.mean(Y)) ** 2)\n",
    "    mse = summ_sq_r / len(Y)\n",
    "    \n",
    "    print(f'Sum of Squared Errors: {summ_sq_r}')\n",
    "    print(f'Total Sum of Squares: {total_summ_sq}')\n",
    "    print(f'MSE: {round(mse * 100, 4)}%')\n",
    "    \n",
    "    # Estimate sigma_T from residuals\n",
    "    sigma_T = np.sqrt(np.var(residuals) / delta_t)\n",
    "    \n",
    "    return r, sigma, sigma_T\n",
    "\n",
    "delta_t = 1  # Time step\n",
    "K = max(data)  # The carrying capacity\n",
    "\n",
    "# Compute parameters\n",
    "r, sigma, sigma_T = compute_parameters(data, T, delta_t, K)\n",
    "print(f'My Estimated Params are: [r: {r}, sigma: {sigma}, sigma_T: {sigma_T}]')"
   ]
  },
  {
   "cell_type": "code",
   "execution_count": null,
   "id": "7649e3ec",
   "metadata": {},
   "outputs": [],
   "source": []
  },
  {
   "cell_type": "markdown",
   "id": "4badf86b",
   "metadata": {},
   "source": [
    "# PYTHON IMPLEMENTATION FOR PARAMETER VALUES OF THE CROP YIELD MODEL AFTER INCORPORATING PRECIPITATION"
   ]
  },
  {
   "cell_type": "code",
   "execution_count": 4,
   "id": "a822d39a",
   "metadata": {},
   "outputs": [],
   "source": [
    "import numpy as np\n",
    "import pandas as pd\n",
    "import matplotlib.pyplot as plt\n",
    "from scipy import stats\n",
    "import math\n",
    "np.random.seed(12)"
   ]
  },
  {
   "cell_type": "markdown",
   "id": "b4da2c22",
   "metadata": {},
   "source": [
    "## THE PREPARATION AND IMPUTATION OF MY PRECIPITATION AND YIELD DATA "
   ]
  },
  {
   "cell_type": "code",
   "execution_count": 5,
   "id": "7e48be75",
   "metadata": {},
   "outputs": [],
   "source": [
    "#Precipitation data\n",
    "rr=pd.read_csv('observed-annual-precipitation-of-ghana-for-1901-2022.csv')\n",
    "data_inn = np.array(rr['Annual Mean'])\n",
    "data_precip = data_inn[-62:]\n",
    "yrs = np.array(rr['Category'])\n",
    "years = yrs[-62:]\n",
    "\n",
    "# Log transformation\n",
    "def log_transform(data_precip):\n",
    "    # Adding 1 to avoid log(0) if there are zero values\n",
    "    R = np.log(data_precip + 1)\n",
    "    return R\n",
    "\n",
    "R = log_transform(data_precip)\n",
    "\n",
    "\n",
    "#Crop Yield data\n",
    "pp=pd.read_csv('crop yield.csv')\n",
    "data_crop = np.array(pp['Value'])\n",
    "years = np.array(pp['Year'])\n",
    "\n",
    "# Log transformation\n",
    "def log_transform(data_crop):\n",
    "    # Adding 1 to avoid log(0) if there are zero values\n",
    "    data = np.log(data_crop + 1)\n",
    "    return data\n",
    "\n",
    "data = log_transform(data_crop)"
   ]
  },
  {
   "cell_type": "markdown",
   "id": "e11e853f",
   "metadata": {},
   "source": [
    "## ESTIMATION OF PARAMETERS FOR THE CROP YIELD MODEL"
   ]
  },
  {
   "cell_type": "code",
   "execution_count": 6,
   "id": "a08a4445",
   "metadata": {},
   "outputs": [
    {
     "name": "stdout",
     "output_type": "stream",
     "text": [
      "Sum of Squared Errors: 0.2861154102074147\n",
      "Total Sum of Squares: 0.2936348202728435\n",
      "MSE: 0.469%\n",
      "My Estimated Params are: [r: 6.905111233245001e-05, sigma: 0.11145631789946434, sigma_R: 0.06848646965721494]\n"
     ]
    }
   ],
   "source": [
    "# Step 1: Computation of Y and X\n",
    "def compute_Y_X(data, R, delta_t, K):\n",
    "    n = len(data)\n",
    "    if n <= 1:\n",
    "        raise ValueError(\"Data length must be greater than 1\")\n",
    "\n",
    "    Y = np.zeros(n - 1)\n",
    "    X = np.zeros((n - 1, 2))\n",
    "    \n",
    "    for i in range(n - 1):\n",
    "        sqrt_R_i = np.sqrt(R[i])\n",
    "        Y[i] = (data[i + 1] - data[i]) / sqrt_R_i\n",
    "        X[i, 0] = (1 - np.exp(data[i]) / K) * (delta_t / sqrt_R_i)  \n",
    "        X[i, 1] = -(delta_t / sqrt_R_i)                            \n",
    "    \n",
    "    return Y, X\n",
    "\n",
    "# Step 2: Computation of C_hat\n",
    "def compute_C_hat(Y, X, lambda_reg=1e-5):\n",
    "    n, p = X.shape\n",
    "    I = np.eye(p)\n",
    "    X_transpose_X_reg = X.T @ X + lambda_reg * I\n",
    "    X_transpose_X_inv = np.linalg.inv(X_transpose_X_reg)\n",
    "    C_hat = X_transpose_X_inv @ X.T @ Y\n",
    "    return C_hat\n",
    "\n",
    "# Step 3: Computation of Parameters\n",
    "def compute_parameters(data, R, delta_t, K, lambda_reg=1e-5):\n",
    "    Y, X = compute_Y_X(data, R, delta_t, K)\n",
    "    C_hat = compute_C_hat(Y, X, lambda_reg)\n",
    "    \n",
    "    r = C_hat[0]\n",
    "    sigma = -C_hat[1]\n",
    "    \n",
    "    # Predicted Model Y\n",
    "    Y_pred = X @ C_hat\n",
    "    residuals = Y - Y_pred\n",
    "    \n",
    "    # Calculation of Mean Squared Error (MSE)\n",
    "    summ_sq_r = np.sum(residuals ** 2)\n",
    "    total_summ_sq = np.sum((Y - np.mean(Y)) ** 2)\n",
    "    mse = summ_sq_r / len(Y)\n",
    "    \n",
    "    print(f'Sum of Squared Errors: {summ_sq_r}')\n",
    "    print(f'Total Sum of Squares: {total_summ_sq}')\n",
    "    print(f'MSE: {round(mse * 100, 4)}%')\n",
    "    \n",
    "    # Estimate sigma_T from residuals\n",
    "    sigma_R = np.sqrt(np.var(residuals) / delta_t)\n",
    "    \n",
    "    return r, sigma, sigma_R\n",
    "\n",
    "delta_t = 1  # Time step\n",
    "K = max(data)  # The carrying capacity\n",
    "\n",
    "# Compute parameters\n",
    "r, sigma, sigma_R = compute_parameters(data, R, delta_t, K)\n",
    "print(f'My Estimated Params are: [r: {r}, sigma: {sigma}, sigma_R: {sigma_R}]')"
   ]
  }
 ],
 "metadata": {
  "kernelspec": {
   "display_name": "Python 3 (ipykernel)",
   "language": "python",
   "name": "python3"
  },
  "language_info": {
   "codemirror_mode": {
    "name": "ipython",
    "version": 3
   },
   "file_extension": ".py",
   "mimetype": "text/x-python",
   "name": "python",
   "nbconvert_exporter": "python",
   "pygments_lexer": "ipython3",
   "version": "3.10.12"
  }
 },
 "nbformat": 4,
 "nbformat_minor": 5
}
